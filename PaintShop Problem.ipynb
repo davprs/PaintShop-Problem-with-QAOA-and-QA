{
 "cells": [
  {
   "cell_type": "markdown",
   "id": "678d056d",
   "metadata": {},
   "source": [
    "# Dichiarazione di funzioni necessarie a risolvere istanze di un problema di binary paintshop #"
   ]
  },
  {
   "cell_type": "code",
   "execution_count": null,
   "id": "64449f6c",
   "metadata": {},
   "outputs": [],
   "source": [
    "import numpy as np\n",
    "from itertools import product\n",
    "import copy\n",
    "import matplotlib.pyplot as plt\n",
    "from scipy import optimize\n",
    "\n",
    "from qiskit.algorithms import QAOA, NumPyMinimumEigensolver\n",
    "from qiskit import QuantumCircuit, ClassicalRegister, QuantumRegister\n",
    "from qiskit import Aer, execute\n",
    "from qiskit.utils import algorithm_globals, QuantumInstance\n",
    "from qiskit.circuit import Parameter\n",
    "from qiskit_optimization.algorithms import MinimumEigenOptimizer, RecursiveMinimumEigenOptimizer\n",
    "from qiskit_optimization import QuadraticProgram\n",
    "from qiskit import IBMQ\n",
    "from qiskit.providers.aer.noise import NoiseModel\n",
    "from qiskit.providers.aer import QasmSimulator\n",
    "from qiskit.test.mock import FakeMontreal\n",
    "\n",
    "from dimod.utilities import ising_to_qubo\n",
    "from dimod.reference.samplers import ExactSolver\n",
    "from dwave.system import DWaveSampler, EmbeddingComposite"
   ]
  },
  {
   "cell_type": "code",
   "execution_count": null,
   "id": "c82ad94f",
   "metadata": {},
   "outputs": [],
   "source": [
    "def color_changes(paint_bitstring):\n",
    "    color_sequence = []\n",
    "    painted_once = set()\n",
    "    for car in CAR_SEQUENCE:\n",
    "        if car in painted_once:\n",
    "            color_sequence.append(not paint_bitstring[car])\n",
    "        else:\n",
    "            color_sequence.append(paint_bitstring[car])\n",
    "            painted_once.add(car)\n",
    "    paint_change_counter = 0\n",
    "    for color0, color1 in zip(color_sequence[:-1], color_sequence[1:]):\n",
    "        if color0 != color1:\n",
    "            paint_change_counter += 1\n",
    "    return paint_change_counter"
   ]
  },
  {
   "cell_type": "code",
   "execution_count": null,
   "id": "f36e70cc",
   "metadata": {},
   "outputs": [],
   "source": [
    "def init_coeff():\n",
    "    same = -1\n",
    "    different = 1\n",
    "    appeared_already = set()\n",
    "    for car0, car1 in zip(CAR_SEQUENCE[:-1], CAR_SEQUENCE[1:]):\n",
    "        if car0 == car1:\n",
    "            continue\n",
    "        if car0 in appeared_already:\n",
    "            appeared_already.add(car0)\n",
    "            if car1 in appeared_already:\n",
    "                yield [(car0, car1), same]\n",
    "            else:\n",
    "                yield [(car0, car1), different]\n",
    "        else:\n",
    "            appeared_already.add(car0)\n",
    "            if car1 in appeared_already:\n",
    "                yield [(car0, car1), different]\n",
    "            else:\n",
    "                yield [(car0, car1), same]"
   ]
  },
  {
   "cell_type": "code",
   "execution_count": null,
   "id": "7c49b15d",
   "metadata": {},
   "outputs": [],
   "source": [
    "def coeff_to_dict(lista):\n",
    "    quad = dict()\n",
    "    for item in lista:\n",
    "        if (item[0][0], item[0][1]) in quad.keys():\n",
    "            quad[item[0][0], item[0][1]] += item[1]\n",
    "        elif (item[0][1], item[0][0]) in quad:\n",
    "            quad[item[0][1], item[0][0]] += item[1]\n",
    "        else:\n",
    "            quad[item[0][0], item[0][1]] = item[1]\n",
    "    return quad"
   ]
  },
  {
   "cell_type": "code",
   "execution_count": null,
   "id": "6725ea6d",
   "metadata": {},
   "outputs": [],
   "source": [
    "def color_changes_from_initial(initial, echo=False):\n",
    "    counter = 0\n",
    "    dynamic_sequence = initial\n",
    "    dynamic_sequence\n",
    "    \n",
    "    for i in range(CAR_PAIR_COUNT*2 - 1):\n",
    "        if (dynamic_sequence[CAR_SEQUENCE[i]] != dynamic_sequence[CAR_SEQUENCE[i + 1]])\\\n",
    "            or\\\n",
    "            (CAR_SEQUENCE[i] == CAR_SEQUENCE[i + 1]):\n",
    "            counter += 1\n",
    "        if echo:\n",
    "            print(i,dynamic_sequence[CAR_SEQUENCE[i]], CAR_SEQUENCE[i])\n",
    "        dynamic_sequence[CAR_SEQUENCE[i]] =  int((dynamic_sequence[CAR_SEQUENCE[i]]) ^ True)\n",
    "        #print(CAR_SEQUENCE[i], CAR_SEQUENCE[i+1], dynamic_sequence, counter)\n",
    "    return counter"
   ]
  },
  {
   "cell_type": "markdown",
   "id": "cd9210f2",
   "metadata": {},
   "source": [
    "QAOA:"
   ]
  },
  {
   "cell_type": "code",
   "execution_count": null,
   "id": "035d2fff",
   "metadata": {},
   "outputs": [],
   "source": [
    "def exec_qaoa(p, noisy=False):\n",
    "    noise_model = NoiseModel.from_backend(FakeMontreal())\n",
    "#     algorithm_globals.random_seed = 42\n",
    "    algorithm_globals.massive=True\n",
    "    \n",
    "    if noisy:\n",
    "        noise_model = NoiseModel.from_backend(FakeMontreal())\n",
    "        \n",
    "        backend = Aer.get_backend('qasm_simulator')\n",
    "#         quantum_instance = QuantumInstance(backend,\n",
    "#                                        seed_simulator=algorithm_globals.random_seed,\n",
    "#                                        seed_transpiler=algorithm_globals.random_seed,\n",
    "#                                        noise_model=noise_model)\n",
    "        quantum_instance = QuantumInstance(backend,\n",
    "                                       seed_simulator=algorithm_globals.random_seed,\n",
    "                                       seed_transpiler=algorithm_globals.random_seed)\n",
    "    \n",
    "        qaoa_mes = QAOA(quantum_instance=quantum_instance, reps=p, include_custom = True)\n",
    "        qaoa_noisy = MinimumEigenOptimizer(qaoa_mes)\n",
    "        return qaoa_noisy.solve(qubo)\n",
    "    else:\n",
    "        backend = QasmSimulator(method='statevector')\n",
    "        quantum_instance = QuantumInstance(backend,\n",
    "                                           seed_simulator=algorithm_globals.random_seed,\n",
    "                                           seed_transpiler=algorithm_globals.random_seed)\n",
    "        qaoa_mes = QAOA(quantum_instance=quantum_instance, reps=p, include_custom = True)\n",
    "        qaoa_noiseless = MinimumEigenOptimizer(qaoa_mes)   # using QAOA\n",
    "        return qaoa_noiseless.solve(qubo)"
   ]
  },
  {
   "cell_type": "markdown",
   "id": "5c4f5e67",
   "metadata": {},
   "source": [
    "Greedy:"
   ]
  },
  {
   "cell_type": "code",
   "execution_count": null,
   "id": "47d86e77",
   "metadata": {},
   "outputs": [],
   "source": [
    "def color_changes_greedy(paint_bitstring, echo=False):\n",
    "    paint_zero= set()\n",
    "    paint_one = set()\n",
    "    status = 0\n",
    "    counter = 0\n",
    "    path = []\n",
    "    result = np.zeros(len(paint_bitstring) // 2)\n",
    "    for i in range(len(paint_bitstring)):\n",
    "        path.append(status)\n",
    "        if (paint_bitstring[i] not in paint_zero) and (paint_bitstring[i] not in paint_one):\n",
    "            result[paint_bitstring[i]] = status\n",
    "            \n",
    "        if status == 0 and (paint_bitstring[i] not in paint_zero):\n",
    "            paint_zero.add(paint_bitstring[i])\n",
    "        elif status == 0 and (paint_bitstring[i] in paint_zero):\n",
    "            counter += 1\n",
    "            status = 1\n",
    "            paint_one.add(paint_bitstring[i])\n",
    "            \n",
    "        elif status == 1 and (paint_bitstring[i] in paint_one):\n",
    "            counter += 1\n",
    "            status = 0\n",
    "            paint_zero.add(paint_bitstring[i])\n",
    "            \n",
    "        elif status == 1 and (paint_bitstring[i] not in paint_one):\n",
    "            paint_one.add(paint_bitstring[i])\n",
    "        if echo:\n",
    "            print(i,status, CAR_SEQUENCE[i])\n",
    "    \n",
    "    return list(map(int, result)), counter"
   ]
  },
  {
   "cell_type": "markdown",
   "id": "90ba6bab",
   "metadata": {},
   "source": [
    "NumPy:"
   ]
  },
  {
   "cell_type": "code",
   "execution_count": null,
   "id": "89f2b8ff",
   "metadata": {},
   "outputs": [],
   "source": [
    "def exec_np():\n",
    "    exact_mes = NumPyMinimumEigensolver()\n",
    "    exact = MinimumEigenOptimizer(exact_mes)  # using the exact classical numpy minimum eigen solver\n",
    "    return exact.solve(qubo)"
   ]
  },
  {
   "cell_type": "markdown",
   "id": "9cf10a1e",
   "metadata": {},
   "source": [
    "Casuale:"
   ]
  },
  {
   "cell_type": "code",
   "execution_count": null,
   "id": "c4c747db",
   "metadata": {},
   "outputs": [],
   "source": [
    "def color_changes_random(paint_bitstring, echo=False):\n",
    "    paint_zero= set()\n",
    "    paint_one = set()\n",
    "    status = np.random.randint(0,2)\n",
    "    counter = 0\n",
    "    path = []\n",
    "    result = np.zeros(len(paint_bitstring) // 2)\n",
    "    for i in range(len(paint_bitstring)):\n",
    "        path.append(status)\n",
    "        if (paint_bitstring[i] not in paint_zero) and (paint_bitstring[i] not in paint_one):\n",
    "            result[paint_bitstring[i]] = np.random.randint(0,2)\n",
    "            \n",
    "        if status == 0 and (paint_bitstring[i] not in paint_zero):\n",
    "            paint_zero.add(paint_bitstring[i])\n",
    "        elif status == 0 and (paint_bitstring[i] in paint_zero):\n",
    "            counter += 1\n",
    "            status = 1\n",
    "            paint_one.add(paint_bitstring[i])\n",
    "            \n",
    "        elif status == 1 and (paint_bitstring[i] in paint_one):\n",
    "            counter += 1\n",
    "            status = 0\n",
    "            paint_zero.add(paint_bitstring[i])\n",
    "            \n",
    "        elif status == 1 and (paint_bitstring[i] not in paint_one):\n",
    "            paint_one.add(paint_bitstring[i])\n",
    "        if echo:\n",
    "            print(i,status, CAR_SEQUENCE[i])\n",
    "    \n",
    "    return list(map(int, result)), counter"
   ]
  },
  {
   "cell_type": "markdown",
   "id": "5b2d44b3",
   "metadata": {},
   "source": [
    "# Creazione dati iniziali #"
   ]
  },
  {
   "cell_type": "code",
   "execution_count": null,
   "id": "9b54f895",
   "metadata": {},
   "outputs": [],
   "source": [
    "CAR_PAIR_COUNT = 5\n",
    "CAR_SEQUENCE = np.random.permutation([x for x in range(CAR_PAIR_COUNT)] * 2)\n",
    "\n",
    "CAR_SEQUENCE"
   ]
  },
  {
   "cell_type": "code",
   "execution_count": null,
   "id": "99fafc69",
   "metadata": {},
   "outputs": [],
   "source": [
    "linear = [0]*CAR_PAIR_COUNT\n",
    "\n",
    "quadratic = coeff_to_dict(list(init_coeff()))\n",
    "\n",
    "J = quadratic\n",
    "h = {}\n",
    "qubo_temp, _ = ising_to_qubo(h, J)"
   ]
  },
  {
   "cell_type": "code",
   "execution_count": null,
   "id": "65b0eac9",
   "metadata": {},
   "outputs": [],
   "source": [
    "linear_qubo = {(i1):qubo_temp[i1, i2]  for i1, i2 in qubo_temp.keys() if i1 == i2}\n",
    "quadratic_qubo = {(i1, i2):qubo_temp[i1, i2]  for i1, i2 in qubo_temp.keys() if i1 != i2}"
   ]
  },
  {
   "cell_type": "markdown",
   "id": "529694ed",
   "metadata": {},
   "source": [
    "Creazione oggetto _QuadraticProgram_:"
   ]
  },
  {
   "cell_type": "code",
   "execution_count": null,
   "id": "b25fa23d",
   "metadata": {},
   "outputs": [],
   "source": [
    "qubo = QuadraticProgram()\n",
    "for i in range(CAR_PAIR_COUNT):    \n",
    "    qubo.binary_var(f\"car_{str(i)}\")\n",
    "\n",
    "qubo.minimize(linear=linear_qubo, quadratic=quadratic_qubo)"
   ]
  },
  {
   "cell_type": "markdown",
   "id": "f7f1510c",
   "metadata": {},
   "source": [
    "# Risoluzione del problema #"
   ]
  },
  {
   "cell_type": "markdown",
   "id": "48dc6baf",
   "metadata": {},
   "source": [
    "## QAOA: ##"
   ]
  },
  {
   "cell_type": "code",
   "execution_count": null,
   "id": "4c7b8e2a",
   "metadata": {},
   "outputs": [],
   "source": [
    "max_p = 4\n",
    "\n",
    "best_result_qaoa_noisy = np.zeros((max_p+1, CAR_PAIR_COUNT), dtype=int)\n",
    "best_result_qaoa_noiseless = np.zeros((max_p+1, CAR_PAIR_COUNT), dtype=int)\n",
    "\n",
    "for p in range(1, max_p+1):\n",
    "    print(f\"Evaluating P={p} noisy\")\n",
    "    best_result_qaoa_noisy[p] = list(map(int, exec_qaoa(p, True).x))\n",
    "    print(f\"Evaluating P={p} noise-less\")\n",
    "    best_result_qaoa_noiseless[p] = list(map(int, exec_qaoa(p, False).x))\n",
    "\n",
    "\n"
   ]
  },
  {
   "cell_type": "markdown",
   "id": "02a90c86",
   "metadata": {},
   "source": [
    "## NumPy: ##"
   ]
  },
  {
   "cell_type": "code",
   "execution_count": null,
   "id": "c2191961",
   "metadata": {
    "scrolled": true
   },
   "outputs": [],
   "source": [
    "best_result_np = list(map(int, exec_np().x))"
   ]
  },
  {
   "cell_type": "markdown",
   "id": "a4a8aa31",
   "metadata": {},
   "source": [
    "## QA: ##"
   ]
  },
  {
   "cell_type": "code",
   "execution_count": null,
   "id": "0cf25696",
   "metadata": {
    "scrolled": true
   },
   "outputs": [],
   "source": [
    "qa_sim = True            #use a simulator if True\n",
    "if qa_sim:\n",
    "    sampler = ExactSolver()\n",
    "    sample = sampler.sample_ising(h, J)\n",
    "else:\n",
    "    from dwave.system import LeapHybridSampler\n",
    "    sampler_auto = LeapHybridSampler(solver={'category': 'hybrid'})\n",
    "    sample = sampler_auto.sample_ising(h, J)\n",
    "\n",
    "best_result_qa = list(map(lambda x : int(x>0), list(sample.first.sample.values())))\n",
    "\n",
    "# sample.to_pandas_dataframe().sort_values(\"energy\")"
   ]
  },
  {
   "cell_type": "markdown",
   "id": "3220886d",
   "metadata": {},
   "source": [
    "## Greedy: ##"
   ]
  },
  {
   "cell_type": "code",
   "execution_count": null,
   "id": "8f9204fa",
   "metadata": {},
   "outputs": [],
   "source": [
    "result_greedy, CC_greedy = color_changes_greedy(CAR_SEQUENCE, echo=False)"
   ]
  },
  {
   "cell_type": "markdown",
   "id": "ce294b6d",
   "metadata": {},
   "source": [
    "# Salvataggio dei risultati in memoria secondaria: #"
   ]
  },
  {
   "cell_type": "code",
   "execution_count": null,
   "id": "f16d92c2",
   "metadata": {},
   "outputs": [],
   "source": [
    "random_r = color_changes_random(CAR_SEQUENCE)\n",
    "CC_random = color_changes_from_initial(random_r[0])\n",
    "\n",
    "\n",
    "reference_res = color_changes(CAR_SEQUENCE)\n",
    "random_res = CC_random\n",
    "greedy_res = color_changes_from_initial(result_greedy.copy())\n",
    "\n",
    "qa_res = color_changes_from_initial(best_result_qa.copy())\n",
    "np_res = color_changes_from_initial(best_result_np.copy())"
   ]
  },
  {
   "cell_type": "code",
   "execution_count": null,
   "id": "69025bac",
   "metadata": {
    "scrolled": false
   },
   "outputs": [],
   "source": [
    "print(f\"Number of car pairs:\\t{CAR_PAIR_COUNT}\")\n",
    "print(f\"Car sequence:\\t\\t{CAR_SEQUENCE}\\n\")\n",
    "\n",
    "print(f\"Random Solution:\\t\\t{random_r[0]}\\t Color changes:{random_res}\")\n",
    "print(f\"Greedy Solution:\\t\\t{result_greedy}\\t Color changes:{greedy_res}\")\n",
    "\n",
    "for p in range(1, max_p + 1):\n",
    "    print(f\"QAOA Noisy \\tp={p} Solution:\\t{list(best_result_qaoa_noisy[p])}\"\\\n",
    "        f\"\\t Color changes:{color_changes_from_initial(best_result_qaoa_noisy[p].copy())}\")\n",
    "    print(f\"QAOA Noise-Less p={p} Solution:\\t{list(best_result_qaoa_noiseless[p])}\"\\\n",
    "        f\"\\t Color changes:{color_changes_from_initial(best_result_qaoa_noiseless[p].copy())}\")\n",
    "print(f\"QA   Solution:  \\t\\t{best_result_qa}\\t Color changes:{qa_res}\")\n",
    "print(f\"NumPy   Solution:  \\t\\t{best_result_np}\\t Color changes:{np_res}\")"
   ]
  },
  {
   "cell_type": "code",
   "execution_count": null,
   "id": "87846fde",
   "metadata": {},
   "outputs": [],
   "source": [
    "from pandas import DataFrame\n",
    "to_print = DataFrame({\"Sequence\": [str(CAR_SEQUENCE)], \"Random\":random_res,\\\n",
    "                     \"Greedy\": greedy_res, \"NumPy\": np_res})\n",
    "for p in range(1, max_p + 1):\n",
    "    to_print[f\"QAOA_p{p}_noisy\"] = color_changes_from_initial(best_result_qaoa_noisy[p].copy())\n",
    "    to_print[f\"QAOA_p{p}_noiseless\"] = color_changes_from_initial(best_result_qaoa_noiseless[p].copy())\n",
    "to_print[\"QA\"] = qa_res\n",
    "to_print"
   ]
  },
  {
   "cell_type": "code",
   "execution_count": null,
   "id": "1a8f3230",
   "metadata": {
    "scrolled": false
   },
   "outputs": [],
   "source": [
    "filename = f'values_{CAR_PAIR_COUNT}.csv'\n",
    "import os\n",
    "\n",
    "if os.path.exists(filename):\n",
    "    header = False\n",
    "else:\n",
    "    header = True\n",
    "\n",
    "with open(filename, 'a') as f:\n",
    "    to_print.to_csv(filename, header=header, mode='a', index=False)\n"
   ]
  }
 ],
 "metadata": {
  "kernelspec": {
   "display_name": "Python 3 (ipykernel)",
   "language": "python",
   "name": "python3"
  },
  "language_info": {
   "codemirror_mode": {
    "name": "ipython",
    "version": 3
   },
   "file_extension": ".py",
   "mimetype": "text/x-python",
   "name": "python",
   "nbconvert_exporter": "python",
   "pygments_lexer": "ipython3",
   "version": "3.9.6"
  }
 },
 "nbformat": 4,
 "nbformat_minor": 5
}
